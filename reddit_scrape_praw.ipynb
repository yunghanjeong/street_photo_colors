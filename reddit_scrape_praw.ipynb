{
 "cells": [
  {
   "cell_type": "markdown",
   "metadata": {},
   "source": [
    "# Overview\n",
    "\n",
    "This notebook is to obtain posts in [r/streetphotography](https://old.reddit.com/r/streetphotography/) using PRAW python API from reddit \n",
    "\n",
    "## Goal\n",
    "\n",
    "- Initialize PRAW object\n",
    "- Obtain posts on r/streetphotography\n",
    "- Create functions to eaily obtain posts for future notebook"
   ]
  },
  {
   "cell_type": "markdown",
   "metadata": {},
   "source": [
    "### Import Libraries"
   ]
  },
  {
   "cell_type": "code",
   "execution_count": 1,
   "metadata": {},
   "outputs": [],
   "source": [
    "import os\n",
    "from urllib.request import urlopen\n",
    "import io\n",
    "import numpy as np\n",
    "from colorthief import ColorThief\n",
    "\n",
    "from src.photo_tools import reddit_tools\n",
    "from src.photo_tools import palette_tools\n",
    "\n",
    "import webcolors\n",
    "import matplotlib.pyplot as plt\n",
    "%matplotlib inline"
   ]
  },
  {
   "cell_type": "markdown",
   "metadata": {},
   "source": [
    "### Initializing imports"
   ]
  },
  {
   "cell_type": "code",
   "execution_count": 2,
   "metadata": {},
   "outputs": [],
   "source": [
    "agent_name = \"photo_color_analyzer\"\n",
    "reddit = reddit_tools(agent_name)\n",
    "pl = palette_tools()"
   ]
  },
  {
   "cell_type": "code",
   "execution_count": 3,
   "metadata": {},
   "outputs": [],
   "source": [
    "df = reddit.get_top_posts(\"streetphotography\", time=\"all\", limit=30)"
   ]
  },
  {
   "cell_type": "markdown",
   "metadata": {},
   "source": [
    "#### Ensure URL contains image\n",
    "\n",
    "Some urls may contain a reddit album which requires web scraping to pull values. In the interest of time, I will be only dealing with .jpg extensions"
   ]
  },
  {
   "cell_type": "code",
   "execution_count": 4,
   "metadata": {},
   "outputs": [],
   "source": [
    "df[\"is_img\"] = df.url.apply(lambda x: 1 if x[-3:] == \"jpg\" else np.nan)\n",
    "df.dropna(inplace = True)"
   ]
  },
  {
   "cell_type": "code",
   "execution_count": 5,
   "metadata": {
    "scrolled": true
   },
   "outputs": [
    {
     "data": {
      "text/html": [
       "<div>\n",
       "<style scoped>\n",
       "    .dataframe tbody tr th:only-of-type {\n",
       "        vertical-align: middle;\n",
       "    }\n",
       "\n",
       "    .dataframe tbody tr th {\n",
       "        vertical-align: top;\n",
       "    }\n",
       "\n",
       "    .dataframe thead th {\n",
       "        text-align: right;\n",
       "    }\n",
       "</style>\n",
       "<table border=\"1\" class=\"dataframe\">\n",
       "  <thead>\n",
       "    <tr style=\"text-align: right;\">\n",
       "      <th></th>\n",
       "      <th>title</th>\n",
       "      <th>url</th>\n",
       "      <th>is_img</th>\n",
       "    </tr>\n",
       "  </thead>\n",
       "  <tbody>\n",
       "    <tr>\n",
       "      <th>0</th>\n",
       "      <td>Salaryman pedestrian in Shinjuku</td>\n",
       "      <td>https://i.redd.it/n8icfynpv2v41.jpg</td>\n",
       "      <td>1</td>\n",
       "    </tr>\n",
       "    <tr>\n",
       "      <th>1</th>\n",
       "      <td>Food Trailer at 5 AM.</td>\n",
       "      <td>https://i.redd.it/g05ify9ubo851.jpg</td>\n",
       "      <td>1</td>\n",
       "    </tr>\n",
       "    <tr>\n",
       "      <th>2</th>\n",
       "      <td>Get home quickly ☔️ Seoul, South Korea 2020 Mo...</td>\n",
       "      <td>https://i.redd.it/mv24dw5akcf51.jpg</td>\n",
       "      <td>1</td>\n",
       "    </tr>\n",
       "    <tr>\n",
       "      <th>3</th>\n",
       "      <td>Morning tea on the street of Delhi</td>\n",
       "      <td>https://i.redd.it/7jiehpzmttk51.jpg</td>\n",
       "      <td>1</td>\n",
       "    </tr>\n",
       "    <tr>\n",
       "      <th>4</th>\n",
       "      <td>Spiderman at NYC Protests</td>\n",
       "      <td>https://i.redd.it/jkql2nxgei451.jpg</td>\n",
       "      <td>1</td>\n",
       "    </tr>\n",
       "    <tr>\n",
       "      <th>5</th>\n",
       "      <td>Shot from a 28th story balcony in center city ...</td>\n",
       "      <td>https://i.redd.it/tcf9vy8aes351.jpg</td>\n",
       "      <td>1</td>\n",
       "    </tr>\n",
       "    <tr>\n",
       "      <th>6</th>\n",
       "      <td>The spice merchant</td>\n",
       "      <td>https://i.redd.it/0hse4xeox8s51.jpg</td>\n",
       "      <td>1</td>\n",
       "    </tr>\n",
       "    <tr>\n",
       "      <th>7</th>\n",
       "      <td>Newcastle Upon Tyne</td>\n",
       "      <td>https://i.redd.it/1nhh7bxcaxn51.jpg</td>\n",
       "      <td>1</td>\n",
       "    </tr>\n",
       "    <tr>\n",
       "      <th>8</th>\n",
       "      <td>Scanning my grandpa’s 35mm and of all the stre...</td>\n",
       "      <td>https://i.redd.it/zrj7db5atkg51.jpg</td>\n",
       "      <td>1</td>\n",
       "    </tr>\n",
       "    <tr>\n",
       "      <th>9</th>\n",
       "      <td>Peaceful Protest.</td>\n",
       "      <td>https://i.redd.it/p67knwkvl5251.jpg</td>\n",
       "      <td>1</td>\n",
       "    </tr>\n",
       "    <tr>\n",
       "      <th>10</th>\n",
       "      <td>Lost in the Pages</td>\n",
       "      <td>https://i.redd.it/gtxb5cztw4a51.jpg</td>\n",
       "      <td>1</td>\n",
       "    </tr>\n",
       "    <tr>\n",
       "      <th>11</th>\n",
       "      <td>Home workout in Hong Kong</td>\n",
       "      <td>https://i.redd.it/trr646fkqrf51.jpg</td>\n",
       "      <td>1</td>\n",
       "    </tr>\n",
       "    <tr>\n",
       "      <th>12</th>\n",
       "      <td>Card players in Hong Kong</td>\n",
       "      <td>https://i.imgur.com/rPWWkYc.jpg</td>\n",
       "      <td>1</td>\n",
       "    </tr>\n",
       "    <tr>\n",
       "      <th>13</th>\n",
       "      <td>Mother and daughter</td>\n",
       "      <td>https://i.redd.it/yqigjdh0bak51.jpg</td>\n",
       "      <td>1</td>\n",
       "    </tr>\n",
       "    <tr>\n",
       "      <th>14</th>\n",
       "      <td>Democracy Wins the Day</td>\n",
       "      <td>https://i.redd.it/lc1aqaeit0y51.jpg</td>\n",
       "      <td>1</td>\n",
       "    </tr>\n",
       "    <tr>\n",
       "      <th>15</th>\n",
       "      <td>San Francisco is a ghost town.</td>\n",
       "      <td>https://i.redd.it/xgc9s0u3wax41.jpg</td>\n",
       "      <td>1</td>\n",
       "    </tr>\n",
       "    <tr>\n",
       "      <th>16</th>\n",
       "      <td>UK - 2020 (taken in isolation - through a wind...</td>\n",
       "      <td>https://i.redd.it/j9s13bql9zq41.jpg</td>\n",
       "      <td>1</td>\n",
       "    </tr>\n",
       "    <tr>\n",
       "      <th>17</th>\n",
       "      <td>destination unknown</td>\n",
       "      <td>https://i.redd.it/2qcotr5c34e51.jpg</td>\n",
       "      <td>1</td>\n",
       "    </tr>\n",
       "    <tr>\n",
       "      <th>18</th>\n",
       "      <td>Daily life in London UK</td>\n",
       "      <td>https://i.redd.it/z317fed3ao551.jpg</td>\n",
       "      <td>1</td>\n",
       "    </tr>\n",
       "    <tr>\n",
       "      <th>19</th>\n",
       "      <td>Riding into the sunset</td>\n",
       "      <td>https://i.redd.it/9trpfl55rbd51.jpg</td>\n",
       "      <td>1</td>\n",
       "    </tr>\n",
       "    <tr>\n",
       "      <th>20</th>\n",
       "      <td>Umbrella Revolution</td>\n",
       "      <td>https://i.redd.it/fqos8luo4wr51.jpg</td>\n",
       "      <td>1</td>\n",
       "    </tr>\n",
       "    <tr>\n",
       "      <th>21</th>\n",
       "      <td>Morning news</td>\n",
       "      <td>https://i.redd.it/rghy02oliy651.jpg</td>\n",
       "      <td>1</td>\n",
       "    </tr>\n",
       "    <tr>\n",
       "      <th>22</th>\n",
       "      <td>Divorce.</td>\n",
       "      <td>https://i.redd.it/ov0vb8oeqfx51.jpg</td>\n",
       "      <td>1</td>\n",
       "    </tr>\n",
       "    <tr>\n",
       "      <th>23</th>\n",
       "      <td>A moment in the rain // Seoul, South Korea</td>\n",
       "      <td>https://i.redd.it/oib3azgpeoc51.jpg</td>\n",
       "      <td>1</td>\n",
       "    </tr>\n",
       "    <tr>\n",
       "      <th>24</th>\n",
       "      <td>Moody day in London</td>\n",
       "      <td>https://i.redd.it/9lqewbjs2o651.jpg</td>\n",
       "      <td>1</td>\n",
       "    </tr>\n",
       "    <tr>\n",
       "      <th>25</th>\n",
       "      <td>A sun lit street in Barcelona</td>\n",
       "      <td>https://i.redd.it/bgexza6t2t651.jpg</td>\n",
       "      <td>1</td>\n",
       "    </tr>\n",
       "    <tr>\n",
       "      <th>26</th>\n",
       "      <td>Bad day - Montreal 2019 with Fujix100f</td>\n",
       "      <td>https://i.redd.it/aomo4pt0xir51.jpg</td>\n",
       "      <td>1</td>\n",
       "    </tr>\n",
       "    <tr>\n",
       "      <th>27</th>\n",
       "      <td>Rainy and empty days in Hong Kong.</td>\n",
       "      <td>https://i.redd.it/ecazt7zt7xf51.jpg</td>\n",
       "      <td>1</td>\n",
       "    </tr>\n",
       "    <tr>\n",
       "      <th>28</th>\n",
       "      <td>Gloomy day in London town</td>\n",
       "      <td>https://i.redd.it/rj08abt3c8b51.jpg</td>\n",
       "      <td>1</td>\n",
       "    </tr>\n",
       "    <tr>\n",
       "      <th>29</th>\n",
       "      <td>Grey is lava</td>\n",
       "      <td>https://i.redd.it/u3ix67zz7rr51.jpg</td>\n",
       "      <td>1</td>\n",
       "    </tr>\n",
       "  </tbody>\n",
       "</table>\n",
       "</div>"
      ],
      "text/plain": [
       "                                                title  \\\n",
       "0                    Salaryman pedestrian in Shinjuku   \n",
       "1                               Food Trailer at 5 AM.   \n",
       "2   Get home quickly ☔️ Seoul, South Korea 2020 Mo...   \n",
       "3                  Morning tea on the street of Delhi   \n",
       "4                           Spiderman at NYC Protests   \n",
       "5   Shot from a 28th story balcony in center city ...   \n",
       "6                                  The spice merchant   \n",
       "7                                 Newcastle Upon Tyne   \n",
       "8   Scanning my grandpa’s 35mm and of all the stre...   \n",
       "9                                   Peaceful Protest.   \n",
       "10                                  Lost in the Pages   \n",
       "11                          Home workout in Hong Kong   \n",
       "12                          Card players in Hong Kong   \n",
       "13                                Mother and daughter   \n",
       "14                             Democracy Wins the Day   \n",
       "15                     San Francisco is a ghost town.   \n",
       "16  UK - 2020 (taken in isolation - through a wind...   \n",
       "17                                destination unknown   \n",
       "18                            Daily life in London UK   \n",
       "19                             Riding into the sunset   \n",
       "20                                Umbrella Revolution   \n",
       "21                                       Morning news   \n",
       "22                                           Divorce.   \n",
       "23         A moment in the rain // Seoul, South Korea   \n",
       "24                                Moody day in London   \n",
       "25                      A sun lit street in Barcelona   \n",
       "26             Bad day - Montreal 2019 with Fujix100f   \n",
       "27                 Rainy and empty days in Hong Kong.   \n",
       "28                          Gloomy day in London town   \n",
       "29                                       Grey is lava   \n",
       "\n",
       "                                    url  is_img  \n",
       "0   https://i.redd.it/n8icfynpv2v41.jpg       1  \n",
       "1   https://i.redd.it/g05ify9ubo851.jpg       1  \n",
       "2   https://i.redd.it/mv24dw5akcf51.jpg       1  \n",
       "3   https://i.redd.it/7jiehpzmttk51.jpg       1  \n",
       "4   https://i.redd.it/jkql2nxgei451.jpg       1  \n",
       "5   https://i.redd.it/tcf9vy8aes351.jpg       1  \n",
       "6   https://i.redd.it/0hse4xeox8s51.jpg       1  \n",
       "7   https://i.redd.it/1nhh7bxcaxn51.jpg       1  \n",
       "8   https://i.redd.it/zrj7db5atkg51.jpg       1  \n",
       "9   https://i.redd.it/p67knwkvl5251.jpg       1  \n",
       "10  https://i.redd.it/gtxb5cztw4a51.jpg       1  \n",
       "11  https://i.redd.it/trr646fkqrf51.jpg       1  \n",
       "12      https://i.imgur.com/rPWWkYc.jpg       1  \n",
       "13  https://i.redd.it/yqigjdh0bak51.jpg       1  \n",
       "14  https://i.redd.it/lc1aqaeit0y51.jpg       1  \n",
       "15  https://i.redd.it/xgc9s0u3wax41.jpg       1  \n",
       "16  https://i.redd.it/j9s13bql9zq41.jpg       1  \n",
       "17  https://i.redd.it/2qcotr5c34e51.jpg       1  \n",
       "18  https://i.redd.it/z317fed3ao551.jpg       1  \n",
       "19  https://i.redd.it/9trpfl55rbd51.jpg       1  \n",
       "20  https://i.redd.it/fqos8luo4wr51.jpg       1  \n",
       "21  https://i.redd.it/rghy02oliy651.jpg       1  \n",
       "22  https://i.redd.it/ov0vb8oeqfx51.jpg       1  \n",
       "23  https://i.redd.it/oib3azgpeoc51.jpg       1  \n",
       "24  https://i.redd.it/9lqewbjs2o651.jpg       1  \n",
       "25  https://i.redd.it/bgexza6t2t651.jpg       1  \n",
       "26  https://i.redd.it/aomo4pt0xir51.jpg       1  \n",
       "27  https://i.redd.it/ecazt7zt7xf51.jpg       1  \n",
       "28  https://i.redd.it/rj08abt3c8b51.jpg       1  \n",
       "29  https://i.redd.it/u3ix67zz7rr51.jpg       1  "
      ]
     },
     "execution_count": 5,
     "metadata": {},
     "output_type": "execute_result"
    }
   ],
   "source": [
    "df"
   ]
  },
  {
   "cell_type": "code",
   "execution_count": 6,
   "metadata": {},
   "outputs": [
    {
     "name": "stderr",
     "output_type": "stream",
     "text": [
      "C:\\Users\\Yung\\Anaconda3\\lib\\site-packages\\ipykernel_launcher.py:5: SettingWithCopyWarning: \n",
      "A value is trying to be set on a copy of a slice from a DataFrame.\n",
      "Try using .loc[row_indexer,col_indexer] = value instead\n",
      "\n",
      "See the caveats in the documentation: https://pandas.pydata.org/pandas-docs/stable/user_guide/indexing.html#returning-a-view-versus-a-copy\n",
      "  \"\"\"\n"
     ]
    }
   ],
   "source": [
    "title = \"San Francisco is a ghost town.\"\n",
    "savepath = \"images\\\\\" + title + \".png\"\n",
    "\n",
    "to_plot_df = df[df.title == title]\n",
    "to_plot_df[\"rgb_palette\"] = to_plot_df.url.apply(pl.get_palette)"
   ]
  },
  {
   "cell_type": "code",
   "execution_count": 7,
   "metadata": {
    "scrolled": false
   },
   "outputs": [
    {
     "data": {
      "text/html": [
       "<div>\n",
       "<style scoped>\n",
       "    .dataframe tbody tr th:only-of-type {\n",
       "        vertical-align: middle;\n",
       "    }\n",
       "\n",
       "    .dataframe tbody tr th {\n",
       "        vertical-align: top;\n",
       "    }\n",
       "\n",
       "    .dataframe thead th {\n",
       "        text-align: right;\n",
       "    }\n",
       "</style>\n",
       "<table border=\"1\" class=\"dataframe\">\n",
       "  <thead>\n",
       "    <tr style=\"text-align: right;\">\n",
       "      <th></th>\n",
       "      <th>title</th>\n",
       "      <th>url</th>\n",
       "      <th>is_img</th>\n",
       "      <th>rgb_palette</th>\n",
       "    </tr>\n",
       "  </thead>\n",
       "  <tbody>\n",
       "    <tr>\n",
       "      <th>15</th>\n",
       "      <td>San Francisco is a ghost town.</td>\n",
       "      <td>https://i.redd.it/xgc9s0u3wax41.jpg</td>\n",
       "      <td>1</td>\n",
       "      <td>[(26, 35, 35), (186, 164, 154), (133, 98, 97),...</td>\n",
       "    </tr>\n",
       "  </tbody>\n",
       "</table>\n",
       "</div>"
      ],
      "text/plain": [
       "                             title                                  url  \\\n",
       "15  San Francisco is a ghost town.  https://i.redd.it/xgc9s0u3wax41.jpg   \n",
       "\n",
       "    is_img                                        rgb_palette  \n",
       "15       1  [(26, 35, 35), (186, 164, 154), (133, 98, 97),...  "
      ]
     },
     "execution_count": 7,
     "metadata": {},
     "output_type": "execute_result"
    }
   ],
   "source": [
    "to_plot_df"
   ]
  },
  {
   "cell_type": "code",
   "execution_count": 8,
   "metadata": {},
   "outputs": [],
   "source": [
    "color = pl.rgb_hex_list(to_plot_df.rgb_palette.values[0])"
   ]
  },
  {
   "cell_type": "code",
   "execution_count": 10,
   "metadata": {},
   "outputs": [
    {
     "data": {
      "text/plain": [
       "'images\\\\San Francisco is a ghost town..png'"
      ]
     },
     "execution_count": 10,
     "metadata": {},
     "output_type": "execute_result"
    }
   ],
   "source": [
    "savepath"
   ]
  },
  {
   "cell_type": "code",
   "execution_count": 9,
   "metadata": {},
   "outputs": [
    {
     "data": {
      "image/png": "[encoded data removed]",
      "text/plain": [
       "<Figure size 432x288 with 1 Axes>"
      ]
     },
     "metadata": {
      "needs_background": "light"
     },
     "output_type": "display_data"
    }
   ],
   "source": [
    "x = range(0, len(color))\n",
    "y = [1] * len(color)\n",
    "width = 1\n",
    "\n",
    "fig, ax = plt.subplots()\n",
    "ax.bar(x, y, color=color, width=width)\n",
    "ax.xaxis.set_visible(False)\n",
    "ax.yaxis.set_visible(False)\n",
    "ax.axis(\"off\");\n",
    "plt.title(title)\n",
    "plt.savefig(savepath)"
   ]
  },
  {
   "cell_type": "code",
   "execution_count": 37,
   "metadata": {},
   "outputs": [
    {
     "ename": "KeyboardInterrupt",
     "evalue": "",
     "output_type": "error",
     "traceback": [
      "\u001b[1;31m---------------------------------------------------------------------------\u001b[0m",
      "\u001b[1;31mKeyboardInterrupt\u001b[0m                         Traceback (most recent call last)",
      "\u001b[1;32m<ipython-input-37-ffa588764213>\u001b[0m in \u001b[0;36m<module>\u001b[1;34m\u001b[0m\n\u001b[1;32m----> 1\u001b[1;33m \u001b[0mdf\u001b[0m\u001b[1;33m[\u001b[0m\u001b[1;34m\"rgb_palette\"\u001b[0m\u001b[1;33m]\u001b[0m \u001b[1;33m=\u001b[0m \u001b[0mdf\u001b[0m\u001b[1;33m.\u001b[0m\u001b[0murl\u001b[0m\u001b[1;33m.\u001b[0m\u001b[0mapply\u001b[0m\u001b[1;33m(\u001b[0m\u001b[0mpl\u001b[0m\u001b[1;33m.\u001b[0m\u001b[0mget_palette\u001b[0m\u001b[1;33m)\u001b[0m \u001b[1;31m#this process can be slow\u001b[0m\u001b[1;33m\u001b[0m\u001b[1;33m\u001b[0m\u001b[0m\n\u001b[0m",
      "\u001b[1;32m~\\Anaconda3\\lib\\site-packages\\pandas\\core\\series.py\u001b[0m in \u001b[0;36mapply\u001b[1;34m(self, func, convert_dtype, args, **kwds)\u001b[0m\n\u001b[0;32m   4198\u001b[0m             \u001b[1;32melse\u001b[0m\u001b[1;33m:\u001b[0m\u001b[1;33m\u001b[0m\u001b[1;33m\u001b[0m\u001b[0m\n\u001b[0;32m   4199\u001b[0m                 \u001b[0mvalues\u001b[0m \u001b[1;33m=\u001b[0m \u001b[0mself\u001b[0m\u001b[1;33m.\u001b[0m\u001b[0mastype\u001b[0m\u001b[1;33m(\u001b[0m\u001b[0mobject\u001b[0m\u001b[1;33m)\u001b[0m\u001b[1;33m.\u001b[0m\u001b[0m_values\u001b[0m\u001b[1;33m\u001b[0m\u001b[1;33m\u001b[0m\u001b[0m\n\u001b[1;32m-> 4200\u001b[1;33m                 \u001b[0mmapped\u001b[0m \u001b[1;33m=\u001b[0m \u001b[0mlib\u001b[0m\u001b[1;33m.\u001b[0m\u001b[0mmap_infer\u001b[0m\u001b[1;33m(\u001b[0m\u001b[0mvalues\u001b[0m\u001b[1;33m,\u001b[0m \u001b[0mf\u001b[0m\u001b[1;33m,\u001b[0m \u001b[0mconvert\u001b[0m\u001b[1;33m=\u001b[0m\u001b[0mconvert_dtype\u001b[0m\u001b[1;33m)\u001b[0m\u001b[1;33m\u001b[0m\u001b[1;33m\u001b[0m\u001b[0m\n\u001b[0m\u001b[0;32m   4201\u001b[0m \u001b[1;33m\u001b[0m\u001b[0m\n\u001b[0;32m   4202\u001b[0m         \u001b[1;32mif\u001b[0m \u001b[0mlen\u001b[0m\u001b[1;33m(\u001b[0m\u001b[0mmapped\u001b[0m\u001b[1;33m)\u001b[0m \u001b[1;32mand\u001b[0m \u001b[0misinstance\u001b[0m\u001b[1;33m(\u001b[0m\u001b[0mmapped\u001b[0m\u001b[1;33m[\u001b[0m\u001b[1;36m0\u001b[0m\u001b[1;33m]\u001b[0m\u001b[1;33m,\u001b[0m \u001b[0mSeries\u001b[0m\u001b[1;33m)\u001b[0m\u001b[1;33m:\u001b[0m\u001b[1;33m\u001b[0m\u001b[1;33m\u001b[0m\u001b[0m\n",
      "\u001b[1;32mpandas\\_libs\\lib.pyx\u001b[0m in \u001b[0;36mpandas._libs.lib.map_infer\u001b[1;34m()\u001b[0m\n",
      "\u001b[1;32mD:\\street_photo_colors\\src\\photo_tools.py\u001b[0m in \u001b[0;36mget_palette\u001b[1;34m(self, url, count, qual)\u001b[0m\n\u001b[0;32m    105\u001b[0m \u001b[1;33m\u001b[0m\u001b[0m\n\u001b[0;32m    106\u001b[0m         \"\"\"\n\u001b[1;32m--> 107\u001b[1;33m         \u001b[0mpost\u001b[0m \u001b[1;33m=\u001b[0m \u001b[0mself\u001b[0m\u001b[1;33m.\u001b[0m\u001b[0mget_url_binary\u001b[0m\u001b[1;33m(\u001b[0m\u001b[0murl\u001b[0m\u001b[1;33m)\u001b[0m\u001b[1;33m\u001b[0m\u001b[1;33m\u001b[0m\u001b[0m\n\u001b[0m\u001b[0;32m    108\u001b[0m         \u001b[0mct\u001b[0m \u001b[1;33m=\u001b[0m \u001b[0mColorThief\u001b[0m\u001b[1;33m(\u001b[0m\u001b[0mpost\u001b[0m\u001b[1;33m)\u001b[0m\u001b[1;33m\u001b[0m\u001b[1;33m\u001b[0m\u001b[0m\n\u001b[0;32m    109\u001b[0m         \u001b[0mrgb_list\u001b[0m \u001b[1;33m=\u001b[0m \u001b[0mct\u001b[0m\u001b[1;33m.\u001b[0m\u001b[0mget_palette\u001b[0m\u001b[1;33m(\u001b[0m\u001b[0mcolor_count\u001b[0m\u001b[1;33m=\u001b[0m\u001b[0mcount\u001b[0m\u001b[1;33m,\u001b[0m \u001b[0mquality\u001b[0m\u001b[1;33m=\u001b[0m\u001b[0mqual\u001b[0m\u001b[1;33m)\u001b[0m\u001b[1;33m\u001b[0m\u001b[1;33m\u001b[0m\u001b[0m\n",
      "\u001b[1;31mKeyboardInterrupt\u001b[0m: "
     ]
    }
   ],
   "source": [
    "# gets all rows\n",
    "df[\"rgb_palette\"] = df.url.apply(pl.get_palette) #this process can be slow"
   ]
  },
  {
   "cell_type": "code",
   "execution_count": 9,
   "metadata": {
    "scrolled": false
   },
   "outputs": [
    {
     "data": {
      "image/png": "[encoded data removed]",
      "text/plain": [
       "<Figure size 432x360 with 9 Axes>"
      ]
     },
     "metadata": {},
     "output_type": "display_data"
    }
   ],
   "source": [
    "fig, ax = plt.subplots(3, 3, figsize=(6,5))\n",
    "\n",
    "for i in range(0, df.shape[0]):\n",
    "\n",
    "    col = i//3\n",
    "    row = i%3\n",
    "    plot_df = df.iloc[i,:]\n",
    "    \n",
    "    wedges = [1] * len(plot_df.rgb_palette)\n",
    "    sorted_color = pl.palette_sort(plot_df.rgb_palette)\n",
    "    color = pl.rgb_hex_list(sorted_color)\n",
    "    \n",
    "    ax[row, col].pie(wedges, colors=color, startangle=90, counterclock=False, radius=1.4);\n",
    "    ax[row, col].set_title(\" \".join(plot_df.title.split()[:2]), pad=10)\n",
    "\n",
    "plt.tight_layout()"
   ]
  },
  {
   "cell_type": "code",
   "execution_count": 17,
   "metadata": {},
   "outputs": [
    {
     "data": {
      "image/png": "[encoded data removed]",
      "text/plain": [
       "<Figure size 360x360 with 9 Axes>"
      ]
     },
     "metadata": {
      "needs_background": "light"
     },
     "output_type": "display_data"
    }
   ],
   "source": [
    "fig, ax = plt.subplots(3, 3, figsize=(5,5))\n",
    "\n",
    "for i in range(0, df.shape[0]):\n",
    "    col = i//3\n",
    "    row = i%3\n",
    "    plot_df = df.iloc[i,:]\n",
    "    width = 1\n",
    "    \n",
    "    x = range(len(plot_df.rgb_palette))\n",
    "    y = [width] * len(plot_df.rgb_palette)\n",
    "    color = pl.rgb_hex_list(plot_df.rgb_palette)\n",
    "    \n",
    "    axe = ax[row, col]\n",
    "    \n",
    "    axe.bar(x,y, color=color, width=width);\n",
    "    axe.set_title(\" \".join(plot_df.title.split()[:2]), pad=10)\n",
    "    axe.xaxis.set_visible(False)\n",
    "    axe.yaxis.set_visible(False)\n",
    "    axe.set_xlim(-(width/2), (len(x)-(width/2)))\n",
    "    axe.set_ylim(0,1)\n",
    "    axe.axis(\"off\")\n",
    "    axe.margins(0.1, 0.1)\n",
    "\n",
    "plt.tight_layout()"
   ]
  },
  {
   "cell_type": "code",
   "execution_count": null,
   "metadata": {},
   "outputs": [],
   "source": []
  }
 ],
 "metadata": {
  "kernelspec": {
   "display_name": "Python 3",
   "language": "python",
   "name": "python3"
  },
  "language_info": {
   "codemirror_mode": {
    "name": "ipython",
    "version": 3
   },
   "file_extension": ".py",
   "mimetype": "text/x-python",
   "name": "python",
   "nbconvert_exporter": "python",
   "pygments_lexer": "ipython3",
   "version": "3.7.1"
  }
 },
 "nbformat": 4,
 "nbformat_minor": 4
}
