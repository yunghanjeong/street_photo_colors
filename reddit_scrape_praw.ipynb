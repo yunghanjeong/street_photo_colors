{
 "cells": [
  {
   "cell_type": "markdown",
   "metadata": {},
   "source": [
    "# Overview\n",
    "\n",
    "This notebook is to obtain posts in [r/streetphotography](https://old.reddit.com/r/streetphotography/) using PRAW python API from reddit \n",
    "\n",
    "## Goal\n",
    "\n",
    "- Initialize PRAW object\n",
    "- Obtain posts on r/streetphotography\n",
    "- Create functions to eaily obtain posts for future notebook"
   ]
  },
  {
   "cell_type": "markdown",
   "metadata": {},
   "source": [
    "### Import Libraries"
   ]
  },
  {
   "cell_type": "code",
   "execution_count": 1,
   "metadata": {},
   "outputs": [],
   "source": [
    "import os\n",
    "from urllib.request import urlopen\n",
    "import io\n",
    "import numpy as np\n",
    "from colorthief import ColorThief\n",
    "\n",
    "from src.photo_tools import reddit_tools\n",
    "from src.photo_tools import palette_tools"
   ]
  },
  {
   "cell_type": "markdown",
   "metadata": {},
   "source": [
    "### Initializing imports"
   ]
  },
  {
   "cell_type": "code",
   "execution_count": 2,
   "metadata": {},
   "outputs": [],
   "source": [
    "agent_name = \"photo_color_analyzer\"\n",
    "reddit = reddit_tools(agent_name)\n",
    "palette = palette_tools()"
   ]
  },
  {
   "cell_type": "code",
   "execution_count": 3,
   "metadata": {},
   "outputs": [],
   "source": [
    "df = reddit.get_top_posts(\"streetphotography\", time=\"all\", limit=5)"
   ]
  },
  {
   "cell_type": "markdown",
   "metadata": {},
   "source": [
    "#### Ensure URL contains image\n",
    "\n",
    "Some urls may contain a reddit album which requires web scraping to pull values. In the interest of time, I will be only dealing with .jpg extensions"
   ]
  },
  {
   "cell_type": "code",
   "execution_count": 4,
   "metadata": {},
   "outputs": [],
   "source": [
    "df[\"is_img\"] = df.url.apply(lambda x: 1 if x[-3:] == \"jpg\" else np.nan)\n",
    "df.dropna(inplace = True)"
   ]
  },
  {
   "cell_type": "code",
   "execution_count": 5,
   "metadata": {},
   "outputs": [
    {
     "data": {
      "text/html": [
       "<div>\n",
       "<style scoped>\n",
       "    .dataframe tbody tr th:only-of-type {\n",
       "        vertical-align: middle;\n",
       "    }\n",
       "\n",
       "    .dataframe tbody tr th {\n",
       "        vertical-align: top;\n",
       "    }\n",
       "\n",
       "    .dataframe thead th {\n",
       "        text-align: right;\n",
       "    }\n",
       "</style>\n",
       "<table border=\"1\" class=\"dataframe\">\n",
       "  <thead>\n",
       "    <tr style=\"text-align: right;\">\n",
       "      <th></th>\n",
       "      <th>title</th>\n",
       "      <th>url</th>\n",
       "      <th>is_img</th>\n",
       "    </tr>\n",
       "  </thead>\n",
       "  <tbody>\n",
       "    <tr>\n",
       "      <th>0</th>\n",
       "      <td>Salaryman pedestrian in Shinjuku</td>\n",
       "      <td>https://i.redd.it/n8icfynpv2v41.jpg</td>\n",
       "      <td>1</td>\n",
       "    </tr>\n",
       "    <tr>\n",
       "      <th>1</th>\n",
       "      <td>Food Trailer at 5 AM.</td>\n",
       "      <td>https://i.redd.it/g05ify9ubo851.jpg</td>\n",
       "      <td>1</td>\n",
       "    </tr>\n",
       "    <tr>\n",
       "      <th>2</th>\n",
       "      <td>Get home quickly ☔️ Seoul, South Korea 2020 Mo...</td>\n",
       "      <td>https://i.redd.it/mv24dw5akcf51.jpg</td>\n",
       "      <td>1</td>\n",
       "    </tr>\n",
       "    <tr>\n",
       "      <th>3</th>\n",
       "      <td>Morning tea on the street of Delhi</td>\n",
       "      <td>https://i.redd.it/7jiehpzmttk51.jpg</td>\n",
       "      <td>1</td>\n",
       "    </tr>\n",
       "    <tr>\n",
       "      <th>4</th>\n",
       "      <td>Spiderman at NYC Protests</td>\n",
       "      <td>https://i.redd.it/jkql2nxgei451.jpg</td>\n",
       "      <td>1</td>\n",
       "    </tr>\n",
       "  </tbody>\n",
       "</table>\n",
       "</div>"
      ],
      "text/plain": [
       "                                               title  \\\n",
       "0                   Salaryman pedestrian in Shinjuku   \n",
       "1                              Food Trailer at 5 AM.   \n",
       "2  Get home quickly ☔️ Seoul, South Korea 2020 Mo...   \n",
       "3                 Morning tea on the street of Delhi   \n",
       "4                          Spiderman at NYC Protests   \n",
       "\n",
       "                                   url  is_img  \n",
       "0  https://i.redd.it/n8icfynpv2v41.jpg       1  \n",
       "1  https://i.redd.it/g05ify9ubo851.jpg       1  \n",
       "2  https://i.redd.it/mv24dw5akcf51.jpg       1  \n",
       "3  https://i.redd.it/7jiehpzmttk51.jpg       1  \n",
       "4  https://i.redd.it/jkql2nxgei451.jpg       1  "
      ]
     },
     "execution_count": 5,
     "metadata": {},
     "output_type": "execute_result"
    }
   ],
   "source": [
    "df.head()"
   ]
  },
  {
   "cell_type": "code",
   "execution_count": 6,
   "metadata": {},
   "outputs": [],
   "source": [
    "df[\"rgb_palette\"] = df.url.apply(palette.get_palette)"
   ]
  },
  {
   "cell_type": "code",
   "execution_count": 7,
   "metadata": {},
   "outputs": [
    {
     "data": {
      "text/html": [
       "<div>\n",
       "<style scoped>\n",
       "    .dataframe tbody tr th:only-of-type {\n",
       "        vertical-align: middle;\n",
       "    }\n",
       "\n",
       "    .dataframe tbody tr th {\n",
       "        vertical-align: top;\n",
       "    }\n",
       "\n",
       "    .dataframe thead th {\n",
       "        text-align: right;\n",
       "    }\n",
       "</style>\n",
       "<table border=\"1\" class=\"dataframe\">\n",
       "  <thead>\n",
       "    <tr style=\"text-align: right;\">\n",
       "      <th></th>\n",
       "      <th>title</th>\n",
       "      <th>url</th>\n",
       "      <th>is_img</th>\n",
       "      <th>rgb_palette</th>\n",
       "    </tr>\n",
       "  </thead>\n",
       "  <tbody>\n",
       "    <tr>\n",
       "      <th>0</th>\n",
       "      <td>Salaryman pedestrian in Shinjuku</td>\n",
       "      <td>https://i.redd.it/n8icfynpv2v41.jpg</td>\n",
       "      <td>1</td>\n",
       "      <td>[(225, 226, 229), (42, 47, 56), (94, 95, 103),...</td>\n",
       "    </tr>\n",
       "    <tr>\n",
       "      <th>1</th>\n",
       "      <td>Food Trailer at 5 AM.</td>\n",
       "      <td>https://i.redd.it/g05ify9ubo851.jpg</td>\n",
       "      <td>1</td>\n",
       "      <td>[(65, 81, 124), (184, 169, 191), (29, 24, 42),...</td>\n",
       "    </tr>\n",
       "    <tr>\n",
       "      <th>2</th>\n",
       "      <td>Get home quickly ☔️ Seoul, South Korea 2020 Mo...</td>\n",
       "      <td>https://i.redd.it/mv24dw5akcf51.jpg</td>\n",
       "      <td>1</td>\n",
       "      <td>[(51, 62, 64), (176, 197, 200), (139, 172, 183...</td>\n",
       "    </tr>\n",
       "    <tr>\n",
       "      <th>3</th>\n",
       "      <td>Morning tea on the street of Delhi</td>\n",
       "      <td>https://i.redd.it/7jiehpzmttk51.jpg</td>\n",
       "      <td>1</td>\n",
       "      <td>[(191, 155, 116), (44, 40, 46), (94, 58, 59), ...</td>\n",
       "    </tr>\n",
       "    <tr>\n",
       "      <th>4</th>\n",
       "      <td>Spiderman at NYC Protests</td>\n",
       "      <td>https://i.redd.it/jkql2nxgei451.jpg</td>\n",
       "      <td>1</td>\n",
       "      <td>[(43, 42, 46), (199, 163, 181), (133, 110, 106...</td>\n",
       "    </tr>\n",
       "  </tbody>\n",
       "</table>\n",
       "</div>"
      ],
      "text/plain": [
       "                                               title  \\\n",
       "0                   Salaryman pedestrian in Shinjuku   \n",
       "1                              Food Trailer at 5 AM.   \n",
       "2  Get home quickly ☔️ Seoul, South Korea 2020 Mo...   \n",
       "3                 Morning tea on the street of Delhi   \n",
       "4                          Spiderman at NYC Protests   \n",
       "\n",
       "                                   url  is_img  \\\n",
       "0  https://i.redd.it/n8icfynpv2v41.jpg       1   \n",
       "1  https://i.redd.it/g05ify9ubo851.jpg       1   \n",
       "2  https://i.redd.it/mv24dw5akcf51.jpg       1   \n",
       "3  https://i.redd.it/7jiehpzmttk51.jpg       1   \n",
       "4  https://i.redd.it/jkql2nxgei451.jpg       1   \n",
       "\n",
       "                                         rgb_palette  \n",
       "0  [(225, 226, 229), (42, 47, 56), (94, 95, 103),...  \n",
       "1  [(65, 81, 124), (184, 169, 191), (29, 24, 42),...  \n",
       "2  [(51, 62, 64), (176, 197, 200), (139, 172, 183...  \n",
       "3  [(191, 155, 116), (44, 40, 46), (94, 58, 59), ...  \n",
       "4  [(43, 42, 46), (199, 163, 181), (133, 110, 106...  "
      ]
     },
     "execution_count": 7,
     "metadata": {},
     "output_type": "execute_result"
    }
   ],
   "source": [
    "df.head()"
   ]
  },
  {
   "cell_type": "code",
   "execution_count": 8,
   "metadata": {},
   "outputs": [],
   "source": [
    "import matplotlib.pyplot as plt\n",
    "%matplotlib inline"
   ]
  },
  {
   "cell_type": "code",
   "execution_count": 13,
   "metadata": {},
   "outputs": [],
   "source": [
    "plot_df = df.iloc[0,:]"
   ]
  },
  {
   "cell_type": "code",
   "execution_count": null,
   "metadata": {},
   "outputs": [],
   "source": [
    "size = [1] * len(plot_df.rgb_palette)\n",
    "fig, ax = plt.subplots()\n",
    "ax.pie(size)"
   ]
  },
  {
   "cell_type": "code",
   "execution_count": null,
   "metadata": {},
   "outputs": [],
   "source": []
  },
  {
   "cell_type": "code",
   "execution_count": null,
   "metadata": {},
   "outputs": [],
   "source": []
  },
  {
   "cell_type": "markdown",
   "metadata": {},
   "source": [
    "***\n",
    "# TEST CODES BELOW"
   ]
  },
  {
   "cell_type": "code",
   "execution_count": 11,
   "metadata": {},
   "outputs": [
    {
     "data": {
      "text/plain": [
       "dict_keys(['id', 'secret'])"
      ]
     },
     "execution_count": 11,
     "metadata": {},
     "output_type": "execute_result"
    }
   ],
   "source": [
    "f = open(\"api_secret.json\") #you many need to change this file path\n",
    "api_data = json.load(f)\n",
    "api_data.keys()"
   ]
  },
  {
   "cell_type": "code",
   "execution_count": 12,
   "metadata": {},
   "outputs": [],
   "source": [
    "reddit = praw.Reddit(client_id=api_data[\"id\"],\n",
    "                        client_secret=api_data[\"secret\"],\n",
    "                        user_agent=\"photo_color_analyzer\")"
   ]
  },
  {
   "cell_type": "code",
   "execution_count": 14,
   "metadata": {},
   "outputs": [
    {
     "name": "stdout",
     "output_type": "stream",
     "text": [
      "Catching some sun https://i.redd.it/4a6vng9c6dw51.jpg\n",
      "After a Heavy Downpour in Singapore https://i.redd.it/sly0nygfezw51.jpg\n",
      "Untitled https://i.redd.it/6hxw3hq6gkw51.jpg\n",
      "Just found out this subreddit, here are some of the photos that I took last year. https://www.reddit.com/gallery/jntv5g\n",
      "Bus journey home. London - October 2020 https://i.redd.it/8d6tezju43w51.jpg\n",
      "Interesting people in uninteresting places (Tallinn, Estonia) https://i.redd.it/322pcor4tsw51.jpg\n",
      "From a foggy fall evening https://i.imgur.com/36jtDrS.jpg\n",
      "The greyest of days in London https://i.redd.it/7u2yw7zke7w51.jpg\n",
      "Poco Loco https://i.redd.it/5x3mc2cefww51.jpg\n",
      "Reflection of a busy street https://i.redd.it/cuove1l8low51.jpg\n"
     ]
    }
   ],
   "source": [
    "for sub in reddit.subreddit(\"streetphotography\").top(\"week\", limit=10):\n",
    "    print(sub.title, sub.url)"
   ]
  },
  {
   "cell_type": "code",
   "execution_count": null,
   "metadata": {},
   "outputs": [],
   "source": []
  },
  {
   "cell_type": "code",
   "execution_count": 19,
   "metadata": {},
   "outputs": [],
   "source": [
    "color_thief = ColorThief(\"test_image.jpg\")\n",
    "palette = color_thief.get_palette(color_count=6)"
   ]
  },
  {
   "cell_type": "code",
   "execution_count": 20,
   "metadata": {},
   "outputs": [
    {
     "data": {
      "text/plain": [
       "[(65, 81, 124),\n",
       " (184, 169, 191),\n",
       " (29, 24, 42),\n",
       " (140, 136, 177),\n",
       " (121, 141, 201),\n",
       " (151, 180, 230)]"
      ]
     },
     "execution_count": 20,
     "metadata": {},
     "output_type": "execute_result"
    }
   ],
   "source": [
    "palette"
   ]
  },
  {
   "cell_type": "code",
   "execution_count": 25,
   "metadata": {},
   "outputs": [],
   "source": [
    "post_url = urlopen(\"https://i.redd.it/n8icfynpv2v41.jpg\")\n",
    "f = io.BytesIO(post_url.read())"
   ]
  },
  {
   "cell_type": "code",
   "execution_count": 26,
   "metadata": {},
   "outputs": [],
   "source": [
    "color_thief2 = ColorThief(f)\n",
    "palette2 = color_thief2.get_palette(color_count=6)"
   ]
  },
  {
   "cell_type": "code",
   "execution_count": 27,
   "metadata": {
    "scrolled": true
   },
   "outputs": [
    {
     "data": {
      "text/plain": [
       "[(225, 226, 229),\n",
       " (42, 47, 56),\n",
       " (94, 95, 103),\n",
       " (129, 131, 139),\n",
       " (73, 92, 109),\n",
       " (183, 139, 81)]"
      ]
     },
     "execution_count": 27,
     "metadata": {},
     "output_type": "execute_result"
    }
   ],
   "source": [
    "palette2"
   ]
  }
 ],
 "metadata": {
  "kernelspec": {
   "display_name": "Python 3",
   "language": "python",
   "name": "python3"
  },
  "language_info": {
   "codemirror_mode": {
    "name": "ipython",
    "version": 3
   },
   "file_extension": ".py",
   "mimetype": "text/x-python",
   "name": "python",
   "nbconvert_exporter": "python",
   "pygments_lexer": "ipython3",
   "version": "3.7.1"
  }
 },
 "nbformat": 4,
 "nbformat_minor": 4
}
